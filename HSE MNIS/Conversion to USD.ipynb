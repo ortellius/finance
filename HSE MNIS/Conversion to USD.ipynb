{
 "cells": [
  {
   "cell_type": "code",
   "execution_count": 37,
   "id": "7d80544a",
   "metadata": {},
   "outputs": [
    {
     "name": "stderr",
     "output_type": "stream",
     "text": [
      "/var/folders/4n/k1h49sjj70j9w9yg9yc94v_c0000gn/T/ipykernel_88086/3813804564.py:6: FutureWarning: YF.download() has changed argument auto_adjust default to True\n",
      "  usdcny = yf.download('USDCNY=X', start='2015-01-01', end='2025-01-01', interval='1d')\n",
      "[*********************100%***********************]  1 of 1 completed\n"
     ]
    },
    {
     "name": "stdout",
     "output_type": "stream",
     "text": [
      "Date\n",
      "2015    6.4812\n",
      "2016    6.9453\n",
      "2017    6.5316\n",
      "2018    6.8772\n",
      "2019    6.9857\n",
      "2020    6.5222\n",
      "2021    6.3721\n",
      "2022    6.9631\n",
      "2023    7.1070\n",
      "2024    7.2981\n",
      "Name: USDCNY=X, dtype: float64\n"
     ]
    }
   ],
   "source": [
    "import pandas as pd\n",
    "import yfinance as yf\n",
    "\n",
    "\n",
    "# качаем котировки USDCNY за 2015-2025\n",
    "usdcny = yf.download('USDCNY=X', start='2015-01-01', end='2025-01-01', interval='1d')\n",
    "# удаляем NA значения\n",
    "usdcny = usdcny.dropna()\n",
    "usdcny = usdcny['Close'] # только цены закрытия\n",
    "year = usdcny.index.year\n",
    "last_prices = usdcny.groupby(year).apply(lambda x: x.iloc[-1])\n",
    "last_prices = last_prices.squeeze() # в series переводим чтобы затем использовать отображение \n",
    "# загружаем эксель (лист 9)\n",
    "df = pd.read_excel('HSE_MNIS_data.xlsx', sheet_name=13, header=2)\n",
    "# рассчитываем показатели в долларах\n",
    "to_usd_df = df.loc[:, ['Год', 'CRNCY_ADJ_MKT_CAP', 'BS_TOT_ASSET']] # столбцы где единица измерения - юань\n",
    "to_usd_df['Год'] = pd.to_numeric(to_usd_df['Год'], errors='coerce').astype('Int64')\n",
    "to_usd_df['rate'] = to_usd_df['Год'].map(last_prices)\n",
    "to_usd_df['CRNCY_ADJ_MKT_CAP'] = to_usd_df['CRNCY_ADJ_MKT_CAP']/to_usd_df['rate']\n",
    "to_usd_df['BS_TOT_ASSET'] = to_usd_df['BS_TOT_ASSET']/to_usd_df['rate']\n",
    "print(df.head(10))\n",
    "print(to_usd_df.head(10)) # сравниваем\n",
    "to_usd_df.to_excel('Converted.xlsx')\n",
    "\n"
   ]
  },
  {
   "cell_type": "code",
   "execution_count": null,
   "id": "55b59007",
   "metadata": {},
   "outputs": [],
   "source": []
  }
 ],
 "metadata": {
  "kernelspec": {
   "display_name": "Python 3",
   "language": "python",
   "name": "python3"
  },
  "language_info": {
   "codemirror_mode": {
    "name": "ipython",
    "version": 3
   },
   "file_extension": ".py",
   "mimetype": "text/x-python",
   "name": "python",
   "nbconvert_exporter": "python",
   "pygments_lexer": "ipython3",
   "version": "3.13.4"
  }
 },
 "nbformat": 4,
 "nbformat_minor": 5
}
