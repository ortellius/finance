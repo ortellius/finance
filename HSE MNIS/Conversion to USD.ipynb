{
 "cells": [
  {
   "cell_type": "code",
   "execution_count": null,
   "id": "7d80544a",
   "metadata": {},
   "outputs": [],
   "source": [
    "import pandas as pd\n",
    "import yfinance as yf\n",
    "\n",
    "\n",
    "# качаем котировки USDCNY за 2015-2025\n",
    "usdcny = yf.download('USDCNY=X', start='2015-01-01', end='2025-01-01', interval='1d')\n",
    "# удаляем NA значения\n",
    "usdcny = usdcny.dropna()\n",
    "usdcny = usdcny['Close'] # только цены закрытия\n",
    "year = usdcny.index.year\n",
    "last_prices = usdcny.groupby(year).apply(lambda x: x.iloc[-1])\n",
    "# загружаем эксель (лист 9)\n",
    "df = pd.read_excel('HSE_MNIS_data.xlsx', sheet_name=13, header=2)\n",
    "df.head(10)\n"
   ]
  }
 ],
 "metadata": {
  "language_info": {
   "name": "python"
  }
 },
 "nbformat": 4,
 "nbformat_minor": 5
}
